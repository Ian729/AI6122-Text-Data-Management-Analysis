{
 "cells": [
  {
   "cell_type": "code",
   "execution_count": 1,
   "id": "6f6655cf",
   "metadata": {},
   "outputs": [
    {
     "name": "stderr",
     "output_type": "stream",
     "text": [
      "[nltk_data] Downloading package averaged_perceptron_tagger to\n",
      "[nltk_data]     C:\\Users\\zzm\\AppData\\Roaming\\nltk_data...\n",
      "[nltk_data]   Package averaged_perceptron_tagger is already up-to-\n",
      "[nltk_data]       date!\n"
     ]
    }
   ],
   "source": [
    "import json,re,random\n",
    "import pandas as pd\n",
    "import spacy\n",
    "from spacy import displacy\n",
    "import nltk\n",
    "import dataframe_image as dfi\n",
    "nltk.download('averaged_perceptron_tagger')\n",
    "nlp = spacy.load(\"en_core_web_sm\")\n",
    "pd.set_option('display.max_columns', None)\n",
    "pd.set_option('display.max_rows', None)"
   ]
  },
  {
   "cell_type": "code",
   "execution_count": 27,
   "id": "f95eb736",
   "metadata": {
    "collapsed": true
   },
   "outputs": [
    {
     "name": "stdout",
     "output_type": "stream",
     "text": [
      "Collecting en-core-web-trf==3.1.0\n",
      "  Downloading https://github.com/explosion/spacy-models/releases/download/en_core_web_trf-3.1.0/en_core_web_trf-3.1.0-py3-none-any.whl (460.2 MB)\n",
      "Requirement already satisfied: spacy<3.2.0,>=3.1.0 in c:\\users\\zzm\\anaconda3\\lib\\site-packages (from en-core-web-trf==3.1.0) (3.1.3)\n",
      "Collecting spacy-transformers<1.1.0,>=1.0.3\n",
      "  Downloading spacy_transformers-1.0.6-py2.py3-none-any.whl (42 kB)\n",
      "Requirement already satisfied: cymem<2.1.0,>=2.0.2 in c:\\users\\zzm\\anaconda3\\lib\\site-packages (from spacy<3.2.0,>=3.1.0->en-core-web-trf==3.1.0) (2.0.5)\n",
      "Requirement already satisfied: preshed<3.1.0,>=3.0.2 in c:\\users\\zzm\\anaconda3\\lib\\site-packages (from spacy<3.2.0,>=3.1.0->en-core-web-trf==3.1.0) (3.0.5)\n",
      "Requirement already satisfied: pathy>=0.3.5 in c:\\users\\zzm\\anaconda3\\lib\\site-packages (from spacy<3.2.0,>=3.1.0->en-core-web-trf==3.1.0) (0.6.0)\n",
      "Requirement already satisfied: thinc<8.1.0,>=8.0.9 in c:\\users\\zzm\\anaconda3\\lib\\site-packages (from spacy<3.2.0,>=3.1.0->en-core-web-trf==3.1.0) (8.0.10)\n",
      "Requirement already satisfied: wasabi<1.1.0,>=0.8.1 in c:\\users\\zzm\\anaconda3\\lib\\site-packages (from spacy<3.2.0,>=3.1.0->en-core-web-trf==3.1.0) (0.8.2)\n",
      "Requirement already satisfied: pydantic!=1.8,!=1.8.1,<1.9.0,>=1.7.4 in c:\\users\\zzm\\anaconda3\\lib\\site-packages (from spacy<3.2.0,>=3.1.0->en-core-web-trf==3.1.0) (1.8.2)\n",
      "Requirement already satisfied: blis<0.8.0,>=0.4.0 in c:\\users\\zzm\\anaconda3\\lib\\site-packages (from spacy<3.2.0,>=3.1.0->en-core-web-trf==3.1.0) (0.7.4)\n",
      "Requirement already satisfied: srsly<3.0.0,>=2.4.1 in c:\\users\\zzm\\anaconda3\\lib\\site-packages (from spacy<3.2.0,>=3.1.0->en-core-web-trf==3.1.0) (2.4.1)\n",
      "Requirement already satisfied: numpy>=1.15.0 in c:\\users\\zzm\\anaconda3\\lib\\site-packages (from spacy<3.2.0,>=3.1.0->en-core-web-trf==3.1.0) (1.20.1)\n",
      "Requirement already satisfied: requests<3.0.0,>=2.13.0 in c:\\users\\zzm\\anaconda3\\lib\\site-packages (from spacy<3.2.0,>=3.1.0->en-core-web-trf==3.1.0) (2.25.1)\n",
      "Requirement already satisfied: jinja2 in c:\\users\\zzm\\anaconda3\\lib\\site-packages (from spacy<3.2.0,>=3.1.0->en-core-web-trf==3.1.0) (2.11.3)\n",
      "Requirement already satisfied: typer<0.5.0,>=0.3.0 in c:\\users\\zzm\\anaconda3\\lib\\site-packages (from spacy<3.2.0,>=3.1.0->en-core-web-trf==3.1.0) (0.4.0)\n",
      "Requirement already satisfied: catalogue<2.1.0,>=2.0.6 in c:\\users\\zzm\\anaconda3\\lib\\site-packages (from spacy<3.2.0,>=3.1.0->en-core-web-trf==3.1.0) (2.0.6)\n",
      "Requirement already satisfied: murmurhash<1.1.0,>=0.28.0 in c:\\users\\zzm\\anaconda3\\lib\\site-packages (from spacy<3.2.0,>=3.1.0->en-core-web-trf==3.1.0) (1.0.5)\n",
      "Requirement already satisfied: packaging>=20.0 in c:\\users\\zzm\\anaconda3\\lib\\site-packages (from spacy<3.2.0,>=3.1.0->en-core-web-trf==3.1.0) (20.9)\n",
      "Requirement already satisfied: spacy-legacy<3.1.0,>=3.0.8 in c:\\users\\zzm\\anaconda3\\lib\\site-packages (from spacy<3.2.0,>=3.1.0->en-core-web-trf==3.1.0) (3.0.8)\n",
      "Requirement already satisfied: tqdm<5.0.0,>=4.38.0 in c:\\users\\zzm\\anaconda3\\lib\\site-packages (from spacy<3.2.0,>=3.1.0->en-core-web-trf==3.1.0) (4.59.0)\n",
      "Requirement already satisfied: setuptools in c:\\users\\zzm\\anaconda3\\lib\\site-packages (from spacy<3.2.0,>=3.1.0->en-core-web-trf==3.1.0) (58.2.0)\n",
      "Collecting spacy-alignments<1.0.0,>=0.7.2\n",
      "  Downloading spacy_alignments-0.8.3-cp38-cp38-win_amd64.whl (179 kB)\n",
      "Collecting transformers<4.10.0,>=3.4.0\n",
      "  Downloading transformers-4.9.2-py3-none-any.whl (2.6 MB)\n",
      "Requirement already satisfied: torch>=1.5.0 in c:\\users\\zzm\\anaconda3\\lib\\site-packages (from spacy-transformers<1.1.0,>=1.0.3->en-core-web-trf==3.1.0) (1.9.1)\n",
      "Requirement already satisfied: pyparsing>=2.0.2 in c:\\users\\zzm\\anaconda3\\lib\\site-packages (from packaging>=20.0->spacy<3.2.0,>=3.1.0->en-core-web-trf==3.1.0) (2.4.7)\n",
      "Requirement already satisfied: smart-open<6.0.0,>=5.0.0 in c:\\users\\zzm\\anaconda3\\lib\\site-packages (from pathy>=0.3.5->spacy<3.2.0,>=3.1.0->en-core-web-trf==3.1.0) (5.2.1)\n",
      "Requirement already satisfied: typing-extensions>=3.7.4.3 in c:\\users\\zzm\\anaconda3\\lib\\site-packages (from pydantic!=1.8,!=1.8.1,<1.9.0,>=1.7.4->spacy<3.2.0,>=3.1.0->en-core-web-trf==3.1.0) (3.7.4.3)\n",
      "Requirement already satisfied: chardet<5,>=3.0.2 in c:\\users\\zzm\\anaconda3\\lib\\site-packages (from requests<3.0.0,>=2.13.0->spacy<3.2.0,>=3.1.0->en-core-web-trf==3.1.0) (4.0.0)\n",
      "Requirement already satisfied: certifi>=2017.4.17 in c:\\users\\zzm\\anaconda3\\lib\\site-packages (from requests<3.0.0,>=2.13.0->spacy<3.2.0,>=3.1.0->en-core-web-trf==3.1.0) (2020.12.5)\n",
      "Requirement already satisfied: idna<3,>=2.5 in c:\\users\\zzm\\anaconda3\\lib\\site-packages (from requests<3.0.0,>=2.13.0->spacy<3.2.0,>=3.1.0->en-core-web-trf==3.1.0) (2.10)\n",
      "Requirement already satisfied: urllib3<1.27,>=1.21.1 in c:\\users\\zzm\\anaconda3\\lib\\site-packages (from requests<3.0.0,>=2.13.0->spacy<3.2.0,>=3.1.0->en-core-web-trf==3.1.0) (1.26.4)\n",
      "Collecting tokenizers<0.11,>=0.10.1\n",
      "  Downloading tokenizers-0.10.3-cp38-cp38-win_amd64.whl (2.0 MB)\n",
      "Requirement already satisfied: filelock in c:\\users\\zzm\\anaconda3\\lib\\site-packages (from transformers<4.10.0,>=3.4.0->spacy-transformers<1.1.0,>=1.0.3->en-core-web-trf==3.1.0) (3.0.12)\n",
      "Requirement already satisfied: regex!=2019.12.17 in c:\\users\\zzm\\anaconda3\\lib\\site-packages (from transformers<4.10.0,>=3.4.0->spacy-transformers<1.1.0,>=1.0.3->en-core-web-trf==3.1.0) (2021.4.4)\n",
      "Collecting sacremoses\n",
      "  Downloading sacremoses-0.0.46-py3-none-any.whl (895 kB)\n",
      "Collecting huggingface-hub==0.0.12\n",
      "  Downloading huggingface_hub-0.0.12-py3-none-any.whl (37 kB)\n",
      "Requirement already satisfied: pyyaml>=5.1 in c:\\users\\zzm\\anaconda3\\lib\\site-packages (from transformers<4.10.0,>=3.4.0->spacy-transformers<1.1.0,>=1.0.3->en-core-web-trf==3.1.0) (5.4.1)\n",
      "Requirement already satisfied: click<9.0.0,>=7.1.1 in c:\\users\\zzm\\anaconda3\\lib\\site-packages (from typer<0.5.0,>=0.3.0->spacy<3.2.0,>=3.1.0->en-core-web-trf==3.1.0) (7.1.2)\n",
      "Requirement already satisfied: MarkupSafe>=0.23 in c:\\users\\zzm\\anaconda3\\lib\\site-packages (from jinja2->spacy<3.2.0,>=3.1.0->en-core-web-trf==3.1.0) (1.1.1)\n",
      "Requirement already satisfied: joblib in c:\\users\\zzm\\anaconda3\\lib\\site-packages (from sacremoses->transformers<4.10.0,>=3.4.0->spacy-transformers<1.1.0,>=1.0.3->en-core-web-trf==3.1.0) (1.0.1)\n",
      "Requirement already satisfied: six in c:\\users\\zzm\\anaconda3\\lib\\site-packages (from sacremoses->transformers<4.10.0,>=3.4.0->spacy-transformers<1.1.0,>=1.0.3->en-core-web-trf==3.1.0) (1.15.0)\n",
      "Installing collected packages: tokenizers, sacremoses, huggingface-hub, transformers, spacy-alignments, spacy-transformers, en-core-web-trf\n",
      "Successfully installed en-core-web-trf-3.1.0 huggingface-hub-0.0.12 sacremoses-0.0.46 spacy-alignments-0.8.3 spacy-transformers-1.0.6 tokenizers-0.10.3 transformers-4.9.2\n",
      "[+] Download and installation successful\n",
      "You can now load the package via spacy.load('en_core_web_trf')\n"
     ]
    }
   ],
   "source": [
    "#download if haven't install the package\n",
    "# !pip install -U pip setuptools wheel\n",
    "# !pip install -U spacy\n",
    "# !python -m spacy download zh_core_web_sm\n",
    "!python -m spacy download en_core_web_trf"
   ]
  },
  {
   "cell_type": "markdown",
   "id": "144496ce",
   "metadata": {},
   "source": [
    "## 3.2 Most frequent ⟨ Noun - Adjective ⟩ pairs for each rating.\n",
    "Each review has a “star” rating in the range of\n",
    "1 to 5. Randomly select 50 reviews (one from each business) of rating 1, extract the top-10 most frequent\n",
    "noun-adjective pairs from the sentences in these selected reviews. Example noun-adjective pairs are servicegreat,\n",
    "food-delicious, that appear in the same sentence. Do the same for 20 reviews of ratings 2, 3, 4, and 5,\n",
    "respectively. Discuss your results and limitations of your method."
   ]
  },
  {
   "cell_type": "code",
   "execution_count": 2,
   "id": "2e58cbb8",
   "metadata": {},
   "outputs": [],
   "source": [
    "#list to string method\n",
    "def list_to_string(list_):\n",
    "    str1 = \"\" \n",
    "    \n",
    "    # traverse in the string  \n",
    "    for ele in list_: \n",
    "        str1 += ele + \" \"  \n",
    "    \n",
    "    # return string  \n",
    "    return str1 "
   ]
  },
  {
   "cell_type": "markdown",
   "id": "20523386",
   "metadata": {},
   "source": [
    "### load reviews and preprocess functions"
   ]
  },
  {
   "cell_type": "code",
   "execution_count": 3,
   "id": "2985b4cc",
   "metadata": {
    "scrolled": true
   },
   "outputs": [],
   "source": [
    "data_set = []\n",
    "#load yelp reviews.json\n",
    "for line in open('yelp_academic_dataset_review.json', 'rb'):\n",
    "    data_set.append(json.loads(line))"
   ]
  },
  {
   "cell_type": "code",
   "execution_count": 4,
   "id": "b2426210",
   "metadata": {},
   "outputs": [],
   "source": [
    "#function that select reviews based on stars(from different business)\n",
    "def stars_reviews(dataset,num_of_reviews,stars):\n",
    "    business_list = []\n",
    "    reviews_ = []\n",
    "    while len(reviews_) < num_of_reviews:\n",
    "        ran = random.randint(0, len(dataset)-1)\n",
    "        if data_set[ran]['business_id'] not in business_list:\n",
    "            business_list.append(data_set[ran]['business_id'])\n",
    "            \n",
    "            if data_set[ran]['stars'] == stars:\n",
    "                reviews_.append(data_set[ran]['text'])\n",
    "    print(f\"randomly selected {len(reviews_)} reviews of star {stars} in different {num_of_reviews} business\")\n",
    "    return reviews_"
   ]
  },
  {
   "cell_type": "code",
   "execution_count": 5,
   "id": "c694d1ca",
   "metadata": {},
   "outputs": [
    {
     "name": "stdout",
     "output_type": "stream",
     "text": [
      "8635403\n"
     ]
    }
   ],
   "source": [
    "print(len(data_set))"
   ]
  },
  {
   "cell_type": "markdown",
   "id": "40b56e5b",
   "metadata": {},
   "source": [
    "### functions of calculating pair frequency"
   ]
  },
  {
   "cell_type": "code",
   "execution_count": 6,
   "id": "3e8b5403",
   "metadata": {},
   "outputs": [],
   "source": [
    "def find_conj_noun(noun, noun_list):\n",
    "    noun_list.append(noun.lemma_)\n",
    "    for t in noun.children:\n",
    "        if t.pos_ == 'NOUN'and t.dep_ == 'conj' and t.n_rights == 0:\n",
    "            noun_list.append(t.lemma_)\n",
    "            return noun_list \n",
    "        elif t.pos_ == 'NOUN'and t.dep_ == 'conj' and t.n_rights != 0:\n",
    "            return find_conj_noun(t,noun_list)   \n",
    "    return noun_list\n",
    "\n",
    "def find_conj_adj(adj,adj_list):\n",
    "    adj_list.append(adj.text)\n",
    "    for t in adj.children:\n",
    "        if t.pos_ == 'ADJ'and t.dep_ == 'conj' and t.n_rights == 0:\n",
    "            adj_list.append(t.text)\n",
    "            return adj_list \n",
    "        elif t.pos_ == 'ADJ'and t.dep_ == 'conj' and t.n_rights != 0:\n",
    "            return find_conj_adj(t,adj_list)\n",
    "    return adj_list\n",
    "\n",
    "def dict_insertion(s,dic):\n",
    "    if s in dic:\n",
    "        dic[s] += 1\n",
    "    else:\n",
    "        dic[s] = 1\n",
    "\n",
    "#main function of finding noun-adj pair frequency dictionary\n",
    "def noun_adj_freqdict(s):\n",
    "    noun_adj_dict = {} \n",
    "    new_s = \"\"\n",
    "    noun_list = []\n",
    "    adj_list = []\n",
    "    doc = nlp(s)\n",
    "    for token in doc:\n",
    "        if token.pos_ == 'ADJ':\n",
    "            \n",
    "            if token.dep_== 'amod':\n",
    "                if token.head.pos_ =='NOUN':\n",
    "                    noun_list = find_conj_noun(token.head, noun_list)\n",
    "                adj_list = find_conj_adj(token,adj_list)\n",
    "                if noun_list != None:\n",
    "                    for i in noun_list:\n",
    "                        for j in adj_list:\n",
    "                            new_s = (i + \"-\" + j).lower()                               \n",
    "                            dict_insertion(new_s,noun_adj_dict)\n",
    "                noun_list=[]\n",
    "                adj_list =[]\n",
    "                \n",
    "            if token.dep_ == 'acomp':\n",
    "                adj_list = find_conj_adj(token,adj_list)\n",
    "                for t in token.head.lefts:\n",
    "                    if t.pos_ == 'NOUN':\n",
    "                        noun_list = find_conj_noun(t, noun_list)\n",
    "                        if noun_list != None:\n",
    "                            for i in noun_list:\n",
    "                                for j in adj_list:\n",
    "                                    new_s = (i + \"-\" + j).lower()                               \n",
    "                                    dict_insertion(new_s,noun_adj_dict)\n",
    "                noun_list=[]\n",
    "                adj_list =[]           \n",
    "    sorted_dict = {}\n",
    "    sorted_keys = sorted(noun_adj_dict, key=noun_adj_dict.get, reverse=True)\n",
    "\n",
    "    for w in sorted_keys:\n",
    "        sorted_dict[w] = noun_adj_dict[w]           \n",
    "    return sorted_dict"
   ]
  },
  {
   "cell_type": "markdown",
   "id": "21faf0fd",
   "metadata": {},
   "source": [
    "### result: 50 reviews (one from each business) of rating 1"
   ]
  },
  {
   "cell_type": "code",
   "execution_count": 24,
   "id": "fa5dfdb4",
   "metadata": {
    "scrolled": true
   },
   "outputs": [
    {
     "name": "stdout",
     "output_type": "stream",
     "text": [
      "randomly selected 50 reviews of star 1.0 in different 50 business\n"
     ]
    }
   ],
   "source": [
    "r50_1_raw = stars_reviews(data_set,50,1.0)"
   ]
  },
  {
   "cell_type": "code",
   "execution_count": 25,
   "id": "adac32d3",
   "metadata": {},
   "outputs": [],
   "source": [
    "r50_1 = list_to_string(r50_1_raw).replace(\"\\n\",\"\")"
   ]
  },
  {
   "cell_type": "code",
   "execution_count": 26,
   "id": "e54203b7",
   "metadata": {},
   "outputs": [
    {
     "data": {
      "text/html": [
       "<div>\n",
       "<style scoped>\n",
       "    .dataframe tbody tr th:only-of-type {\n",
       "        vertical-align: middle;\n",
       "    }\n",
       "\n",
       "    .dataframe tbody tr th {\n",
       "        vertical-align: top;\n",
       "    }\n",
       "\n",
       "    .dataframe thead th {\n",
       "        text-align: right;\n",
       "    }\n",
       "</style>\n",
       "<table border=\"1\" class=\"dataframe\">\n",
       "  <thead>\n",
       "    <tr style=\"text-align: right;\">\n",
       "      <th></th>\n",
       "      <th>frequency</th>\n",
       "    </tr>\n",
       "  </thead>\n",
       "  <tbody>\n",
       "    <tr>\n",
       "      <th>food-good</th>\n",
       "      <td>5</td>\n",
       "    </tr>\n",
       "    <tr>\n",
       "      <th>experience-worst</th>\n",
       "      <td>4</td>\n",
       "    </tr>\n",
       "    <tr>\n",
       "      <th>day-next</th>\n",
       "      <td>3</td>\n",
       "    </tr>\n",
       "    <tr>\n",
       "      <th>desk-front</th>\n",
       "      <td>3</td>\n",
       "    </tr>\n",
       "    <tr>\n",
       "      <th>time-first</th>\n",
       "      <td>3</td>\n",
       "    </tr>\n",
       "    <tr>\n",
       "      <th>food-great</th>\n",
       "      <td>2</td>\n",
       "    </tr>\n",
       "    <tr>\n",
       "      <th>service-worst</th>\n",
       "      <td>2</td>\n",
       "    </tr>\n",
       "    <tr>\n",
       "      <th>wear-normal</th>\n",
       "      <td>2</td>\n",
       "    </tr>\n",
       "    <tr>\n",
       "      <th>order-online</th>\n",
       "      <td>2</td>\n",
       "    </tr>\n",
       "    <tr>\n",
       "      <th>table-other</th>\n",
       "      <td>2</td>\n",
       "    </tr>\n",
       "  </tbody>\n",
       "</table>\n",
       "</div>"
      ],
      "text/plain": [
       "                  frequency\n",
       "food-good                 5\n",
       "experience-worst          4\n",
       "day-next                  3\n",
       "desk-front                3\n",
       "time-first                3\n",
       "food-great                2\n",
       "service-worst             2\n",
       "wear-normal               2\n",
       "order-online              2\n",
       "table-other               2"
      ]
     },
     "execution_count": 26,
     "metadata": {},
     "output_type": "execute_result"
    }
   ],
   "source": [
    "r50_1_result = noun_adj_freqdict(r50_1)\n",
    "r50_1_df = pd.DataFrame.from_dict(r50_1_result,orient='index',columns=['frequency'])\n",
    "\n",
    "dfi.export(r50_1_df.head(10), 'r50_1_df.png')\n",
    "r50_1_df.head(10)"
   ]
  },
  {
   "cell_type": "markdown",
   "id": "67465b20",
   "metadata": {},
   "source": [
    "### result: 20 reviews (one from each business) of rating 2"
   ]
  },
  {
   "cell_type": "code",
   "execution_count": 27,
   "id": "ab2373c5",
   "metadata": {},
   "outputs": [
    {
     "name": "stdout",
     "output_type": "stream",
     "text": [
      "randomly selected 20 reviews of star 2.0 in different 20 business\n"
     ]
    }
   ],
   "source": [
    "r20_2_raw = stars_reviews(data_set,20,2.0)"
   ]
  },
  {
   "cell_type": "code",
   "execution_count": 28,
   "id": "5ea529c2",
   "metadata": {},
   "outputs": [],
   "source": [
    "r20_2 = list_to_string(r20_2_raw).replace(\"\\n\",\"\")"
   ]
  },
  {
   "cell_type": "code",
   "execution_count": 29,
   "id": "4cf65f24",
   "metadata": {
    "scrolled": true
   },
   "outputs": [
    {
     "data": {
      "text/html": [
       "<div>\n",
       "<style scoped>\n",
       "    .dataframe tbody tr th:only-of-type {\n",
       "        vertical-align: middle;\n",
       "    }\n",
       "\n",
       "    .dataframe tbody tr th {\n",
       "        vertical-align: top;\n",
       "    }\n",
       "\n",
       "    .dataframe thead th {\n",
       "        text-align: right;\n",
       "    }\n",
       "</style>\n",
       "<table border=\"1\" class=\"dataframe\">\n",
       "  <thead>\n",
       "    <tr style=\"text-align: right;\">\n",
       "      <th></th>\n",
       "      <th>frequency</th>\n",
       "    </tr>\n",
       "  </thead>\n",
       "  <tbody>\n",
       "    <tr>\n",
       "      <th>time-last</th>\n",
       "      <td>2</td>\n",
       "    </tr>\n",
       "    <tr>\n",
       "      <th>place-many</th>\n",
       "      <td>2</td>\n",
       "    </tr>\n",
       "    <tr>\n",
       "      <th>food-fast</th>\n",
       "      <td>2</td>\n",
       "    </tr>\n",
       "    <tr>\n",
       "      <th>haircut-great</th>\n",
       "      <td>2</td>\n",
       "    </tr>\n",
       "    <tr>\n",
       "      <th>language-different</th>\n",
       "      <td>1</td>\n",
       "    </tr>\n",
       "    <tr>\n",
       "      <th>stand-hostess</th>\n",
       "      <td>1</td>\n",
       "    </tr>\n",
       "    <tr>\n",
       "      <th>greasy-little</th>\n",
       "      <td>1</td>\n",
       "    </tr>\n",
       "    <tr>\n",
       "      <th>staff-friendly</th>\n",
       "      <td>1</td>\n",
       "    </tr>\n",
       "    <tr>\n",
       "      <th>chair-giant</th>\n",
       "      <td>1</td>\n",
       "    </tr>\n",
       "    <tr>\n",
       "      <th>chair-comfy</th>\n",
       "      <td>1</td>\n",
       "    </tr>\n",
       "  </tbody>\n",
       "</table>\n",
       "</div>"
      ],
      "text/plain": [
       "                    frequency\n",
       "time-last                   2\n",
       "place-many                  2\n",
       "food-fast                   2\n",
       "haircut-great               2\n",
       "language-different          1\n",
       "stand-hostess               1\n",
       "greasy-little               1\n",
       "staff-friendly              1\n",
       "chair-giant                 1\n",
       "chair-comfy                 1"
      ]
     },
     "execution_count": 29,
     "metadata": {},
     "output_type": "execute_result"
    }
   ],
   "source": [
    "r20_2_result = noun_adj_freqdict(r20_2)\n",
    "r20_2_df = pd.DataFrame.from_dict(r20_2_result,orient='index',columns=['frequency'])\n",
    "\n",
    "dfi.export(r20_2_df.head(10), 'r20_2_df.png')\n",
    "r20_2_df.head(10)"
   ]
  },
  {
   "cell_type": "markdown",
   "id": "ae62fe00",
   "metadata": {},
   "source": [
    "### result: 20 reviews (one from each business) of rating 3"
   ]
  },
  {
   "cell_type": "code",
   "execution_count": 30,
   "id": "e9d7696b",
   "metadata": {},
   "outputs": [
    {
     "name": "stdout",
     "output_type": "stream",
     "text": [
      "randomly selected 20 reviews of star 3.0 in different 20 business\n"
     ]
    }
   ],
   "source": [
    "r20_3_raw = stars_reviews(data_set,20,3.0)"
   ]
  },
  {
   "cell_type": "code",
   "execution_count": 31,
   "id": "810f43bf",
   "metadata": {},
   "outputs": [],
   "source": [
    "r20_3 = list_to_string(r20_3_raw).replace(\"\\n\",\"\")"
   ]
  },
  {
   "cell_type": "code",
   "execution_count": 32,
   "id": "36c8e7ec",
   "metadata": {},
   "outputs": [
    {
     "data": {
      "text/html": [
       "<div>\n",
       "<style scoped>\n",
       "    .dataframe tbody tr th:only-of-type {\n",
       "        vertical-align: middle;\n",
       "    }\n",
       "\n",
       "    .dataframe tbody tr th {\n",
       "        vertical-align: top;\n",
       "    }\n",
       "\n",
       "    .dataframe thead th {\n",
       "        text-align: right;\n",
       "    }\n",
       "</style>\n",
       "<table border=\"1\" class=\"dataframe\">\n",
       "  <thead>\n",
       "    <tr style=\"text-align: right;\">\n",
       "      <th></th>\n",
       "      <th>frequency</th>\n",
       "    </tr>\n",
       "  </thead>\n",
       "  <tbody>\n",
       "    <tr>\n",
       "      <th>hour-happy</th>\n",
       "      <td>4</td>\n",
       "    </tr>\n",
       "    <tr>\n",
       "      <th>music-more</th>\n",
       "      <td>3</td>\n",
       "    </tr>\n",
       "    <tr>\n",
       "      <th>music-local</th>\n",
       "      <td>3</td>\n",
       "    </tr>\n",
       "    <tr>\n",
       "      <th>food-good</th>\n",
       "      <td>2</td>\n",
       "    </tr>\n",
       "    <tr>\n",
       "      <th>place-good</th>\n",
       "      <td>2</td>\n",
       "    </tr>\n",
       "    <tr>\n",
       "      <th>music-new</th>\n",
       "      <td>2</td>\n",
       "    </tr>\n",
       "    <tr>\n",
       "      <th>music-different</th>\n",
       "      <td>2</td>\n",
       "    </tr>\n",
       "    <tr>\n",
       "      <th>spot-good</th>\n",
       "      <td>2</td>\n",
       "    </tr>\n",
       "    <tr>\n",
       "      <th>experience-perfect</th>\n",
       "      <td>1</td>\n",
       "    </tr>\n",
       "    <tr>\n",
       "      <th>food-bad</th>\n",
       "      <td>1</td>\n",
       "    </tr>\n",
       "  </tbody>\n",
       "</table>\n",
       "</div>"
      ],
      "text/plain": [
       "                    frequency\n",
       "hour-happy                  4\n",
       "music-more                  3\n",
       "music-local                 3\n",
       "food-good                   2\n",
       "place-good                  2\n",
       "music-new                   2\n",
       "music-different             2\n",
       "spot-good                   2\n",
       "experience-perfect          1\n",
       "food-bad                    1"
      ]
     },
     "execution_count": 32,
     "metadata": {},
     "output_type": "execute_result"
    }
   ],
   "source": [
    "r20_3_result = noun_adj_freqdict(r20_3)\n",
    "r20_3_df = pd.DataFrame.from_dict(r20_3_result,orient='index',columns=['frequency'])\n",
    "dfi.export(r20_3_df.head(10), 'r20_3_df.png')\n",
    "r20_3_df.head(10)"
   ]
  },
  {
   "cell_type": "markdown",
   "id": "bb07cd8b",
   "metadata": {},
   "source": [
    "### result: 20 reviews (one from each business) of rating 4"
   ]
  },
  {
   "cell_type": "code",
   "execution_count": 33,
   "id": "cbf8b4ef",
   "metadata": {},
   "outputs": [
    {
     "name": "stdout",
     "output_type": "stream",
     "text": [
      "randomly selected 20 reviews of star 4.0 in different 20 business\n"
     ]
    }
   ],
   "source": [
    "r20_4_raw = stars_reviews(data_set,20,4.0)"
   ]
  },
  {
   "cell_type": "code",
   "execution_count": 34,
   "id": "884fa28a",
   "metadata": {},
   "outputs": [],
   "source": [
    "r20_4 = list_to_string(r20_4_raw).replace(\"\\n\",\"\")"
   ]
  },
  {
   "cell_type": "code",
   "execution_count": 35,
   "id": "ffdbab2f",
   "metadata": {},
   "outputs": [
    {
     "data": {
      "text/html": [
       "<div>\n",
       "<style scoped>\n",
       "    .dataframe tbody tr th:only-of-type {\n",
       "        vertical-align: middle;\n",
       "    }\n",
       "\n",
       "    .dataframe tbody tr th {\n",
       "        vertical-align: top;\n",
       "    }\n",
       "\n",
       "    .dataframe thead th {\n",
       "        text-align: right;\n",
       "    }\n",
       "</style>\n",
       "<table border=\"1\" class=\"dataframe\">\n",
       "  <thead>\n",
       "    <tr style=\"text-align: right;\">\n",
       "      <th></th>\n",
       "      <th>frequency</th>\n",
       "    </tr>\n",
       "  </thead>\n",
       "  <tbody>\n",
       "    <tr>\n",
       "      <th>breakfast-good</th>\n",
       "      <td>2</td>\n",
       "    </tr>\n",
       "    <tr>\n",
       "      <th>place-full</th>\n",
       "      <td>2</td>\n",
       "    </tr>\n",
       "    <tr>\n",
       "      <th>place-great</th>\n",
       "      <td>2</td>\n",
       "    </tr>\n",
       "    <tr>\n",
       "      <th>spot-great</th>\n",
       "      <td>2</td>\n",
       "    </tr>\n",
       "    <tr>\n",
       "      <th>food-good</th>\n",
       "      <td>2</td>\n",
       "    </tr>\n",
       "    <tr>\n",
       "      <th>line-long</th>\n",
       "      <td>2</td>\n",
       "    </tr>\n",
       "    <tr>\n",
       "      <th>cappuccino-best</th>\n",
       "      <td>1</td>\n",
       "    </tr>\n",
       "    <tr>\n",
       "      <th>day-other</th>\n",
       "      <td>1</td>\n",
       "    </tr>\n",
       "    <tr>\n",
       "      <th>birthday-happy</th>\n",
       "      <td>1</td>\n",
       "    </tr>\n",
       "    <tr>\n",
       "      <th>job-horrible</th>\n",
       "      <td>1</td>\n",
       "    </tr>\n",
       "  </tbody>\n",
       "</table>\n",
       "</div>"
      ],
      "text/plain": [
       "                 frequency\n",
       "breakfast-good           2\n",
       "place-full               2\n",
       "place-great              2\n",
       "spot-great               2\n",
       "food-good                2\n",
       "line-long                2\n",
       "cappuccino-best          1\n",
       "day-other                1\n",
       "birthday-happy           1\n",
       "job-horrible             1"
      ]
     },
     "execution_count": 35,
     "metadata": {},
     "output_type": "execute_result"
    }
   ],
   "source": [
    "r20_4_result = noun_adj_freqdict(r20_4)\n",
    "r20_4_df = pd.DataFrame.from_dict(r20_4_result,orient='index',columns=['frequency'])\n",
    "dfi.export(r20_4_df.head(10), 'r20_4_df.png')\n",
    "r20_4_df.head(10)"
   ]
  },
  {
   "cell_type": "markdown",
   "id": "94343cfb",
   "metadata": {},
   "source": [
    "### result: 20 reviews (one from each business) of rating 5"
   ]
  },
  {
   "cell_type": "code",
   "execution_count": 36,
   "id": "6b622e08",
   "metadata": {},
   "outputs": [
    {
     "name": "stdout",
     "output_type": "stream",
     "text": [
      "randomly selected 20 reviews of star 5.0 in different 20 business\n"
     ]
    }
   ],
   "source": [
    "r20_5_raw = stars_reviews(data_set,20,5.0)"
   ]
  },
  {
   "cell_type": "code",
   "execution_count": 37,
   "id": "23b5f009",
   "metadata": {},
   "outputs": [],
   "source": [
    "r20_5 = list_to_string(r20_5_raw).replace(\"\\n\",\"\")"
   ]
  },
  {
   "cell_type": "code",
   "execution_count": 38,
   "id": "8aebd5eb",
   "metadata": {},
   "outputs": [
    {
     "data": {
      "text/html": [
       "<div>\n",
       "<style scoped>\n",
       "    .dataframe tbody tr th:only-of-type {\n",
       "        vertical-align: middle;\n",
       "    }\n",
       "\n",
       "    .dataframe tbody tr th {\n",
       "        vertical-align: top;\n",
       "    }\n",
       "\n",
       "    .dataframe thead th {\n",
       "        text-align: right;\n",
       "    }\n",
       "</style>\n",
       "<table border=\"1\" class=\"dataframe\">\n",
       "  <thead>\n",
       "    <tr style=\"text-align: right;\">\n",
       "      <th></th>\n",
       "      <th>frequency</th>\n",
       "    </tr>\n",
       "  </thead>\n",
       "  <tbody>\n",
       "    <tr>\n",
       "      <th>service-friendly</th>\n",
       "      <td>2</td>\n",
       "    </tr>\n",
       "    <tr>\n",
       "      <th>time-first</th>\n",
       "      <td>2</td>\n",
       "    </tr>\n",
       "    <tr>\n",
       "      <th>place-favorite</th>\n",
       "      <td>2</td>\n",
       "    </tr>\n",
       "    <tr>\n",
       "      <th>food-whole</th>\n",
       "      <td>1</td>\n",
       "    </tr>\n",
       "    <tr>\n",
       "      <th>experience-great</th>\n",
       "      <td>1</td>\n",
       "    </tr>\n",
       "    <tr>\n",
       "      <th>lesson-interesting</th>\n",
       "      <td>1</td>\n",
       "    </tr>\n",
       "    <tr>\n",
       "      <th>lesson-mini</th>\n",
       "      <td>1</td>\n",
       "    </tr>\n",
       "    <tr>\n",
       "      <th>people-outstanding</th>\n",
       "      <td>1</td>\n",
       "    </tr>\n",
       "    <tr>\n",
       "      <th>food-good</th>\n",
       "      <td>1</td>\n",
       "    </tr>\n",
       "    <tr>\n",
       "      <th>side-fresh</th>\n",
       "      <td>1</td>\n",
       "    </tr>\n",
       "  </tbody>\n",
       "</table>\n",
       "</div>"
      ],
      "text/plain": [
       "                    frequency\n",
       "service-friendly            2\n",
       "time-first                  2\n",
       "place-favorite              2\n",
       "food-whole                  1\n",
       "experience-great            1\n",
       "lesson-interesting          1\n",
       "lesson-mini                 1\n",
       "people-outstanding          1\n",
       "food-good                   1\n",
       "side-fresh                  1"
      ]
     },
     "execution_count": 38,
     "metadata": {},
     "output_type": "execute_result"
    }
   ],
   "source": [
    "r20_5_result = noun_adj_freqdict(r20_5)\n",
    "r20_5_df = pd.DataFrame.from_dict(r20_5_result,orient='index',columns=['frequency'])\n",
    "dfi.export(r20_5_df.head(10), 'r20_5_df.png')\n",
    "r20_5_df.head(10)"
   ]
  },
  {
   "cell_type": "markdown",
   "id": "7bd7159a",
   "metadata": {},
   "source": []
  }
 ],
 "metadata": {
  "kernelspec": {
   "display_name": "Python 3",
   "language": "python",
   "name": "python3"
  },
  "language_info": {
   "codemirror_mode": {
    "name": "ipython",
    "version": 3
   },
   "file_extension": ".py",
   "mimetype": "text/x-python",
   "name": "python",
   "nbconvert_exporter": "python",
   "pygments_lexer": "ipython3",
   "version": "3.8.8"
  }
 },
 "nbformat": 4,
 "nbformat_minor": 5
}
